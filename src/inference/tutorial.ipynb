{
 "cells": [
  {
   "cell_type": "markdown",
   "metadata": {},
   "source": [
    "The following walks through the basic usage of a class we built `Evaluator` which wraps all of the important mmdetection functions (see `utils.py` for implementation details).  This will allow you to load our trained model and run that model over any image."
   ]
  },
  {
   "cell_type": "code",
   "execution_count": null,
   "metadata": {},
   "outputs": [],
   "source": [
    "from utils import *"
   ]
  },
  {
   "cell_type": "markdown",
   "metadata": {},
   "source": [
    "The first step is set the correct paths.  Make sure you have the data downloaded.  For the purposes of this tutorial, we will follow the file structure found at `csfg-algonquin.concordia.ca/~hallett/candescence/` (where you can also download the data).  We will assume you have the data downloaded into a folder called `candescence`."
   ]
  },
  {
   "cell_type": "markdown",
   "metadata": {},
   "source": [
    "The first path to set is the path to the config file used to train the model.  The config file contains all the parameters used for training the model, as well as additional architecture information.  For this tutorial, we will use the config file associated with our final model.  It can be found at `candescence/performance/exp27/training-of-model/exp27.py`"
   ]
  },
  {
   "cell_type": "code",
   "execution_count": 1,
   "metadata": {},
   "outputs": [],
   "source": [
    "CONFIG_PATH = \"candescence/performance/exp27/training-of-model/exp27.py\""
   ]
  },
  {
   "cell_type": "markdown",
   "metadata": {},
   "source": [
    "Next, we need the path to the weights of the trained model.  It can be found at `candescence/performance/exp27/training-of-model/final.pth`"
   ]
  },
  {
   "cell_type": "code",
   "execution_count": null,
   "metadata": {},
   "outputs": [],
   "source": [
    "MODEL_PATH = \"candescence/performance/exp27/training-of-model/final.pth\""
   ]
  },
  {
   "cell_type": "markdown",
   "metadata": {},
   "source": [
    "With the paths set, we can now load our class `Evaluator` which stores all the relevant methods for inference and analysis. "
   ]
  },
  {
   "cell_type": "code",
   "execution_count": null,
   "metadata": {},
   "outputs": [],
   "source": [
    "evaluator = Evaluator(CONFIG_PATH, MODEL_PATH)"
   ]
  },
  {
   "cell_type": "markdown",
   "metadata": {},
   "source": [
    "The evaluator has two methods.\n",
    "\n",
    "The first method is `draw_dts(filename,threshold)`.  It takes as arguments the path to an image file and a confidence threshold (ie, a value between 0 and 1), and returns the image with the model's predicted bounding boxes drawn on.\n",
    "\n",
    "The second method is `get_dts(filename,class)`.  It takes as arguments the path to an image file, and a class name.  This will return an array of all the detected bounding boxes of the specifed class, ranked by confidence level."
   ]
  },
  {
   "cell_type": "code",
   "execution_count": 1,
   "metadata": {},
   "outputs": [],
   "source": [
    "CLASS_NAMES = [\"Yeast White\", \"Budding White\", \"Yeast Opaque\",\"Budding Opaque\",\"Yeast Gray\", \"Budding Gray\",\n",
    "                            \"Shmoo\",\"Artifact\", \"Unknown \",\"Pseudohyphae\", \"Hyphae\", \"H-junction\",\n",
    "                           \"P-junction\",\"P-Start\",\"H-Start\"]"
   ]
  },
  {
   "cell_type": "markdown",
   "metadata": {},
   "source": [
    "Here's an example of the `draw_dts` method applied to an image from our validation set."
   ]
  },
  {
   "cell_type": "code",
   "execution_count": null,
   "metadata": {},
   "outputs": [],
   "source": [
    "evaluator.draw_dts(\"candescence/varasana/train-validation/val/1604GOF_after_3_hrs_in_20_serum37_degrees__6.bmp\",\n",
    "                    0.3)"
   ]
  },
  {
   "cell_type": "markdown",
   "metadata": {},
   "source": [
    "The `get_dts` method is useful when you don't know what confidence level to choose, as it returns all bounding boxes for a specified class.  For instance, here's an example that returns all possible detections for the class `Budding White` on the validation image above."
   ]
  },
  {
   "cell_type": "code",
   "execution_count": null,
   "metadata": {},
   "outputs": [],
   "source": [
    "evaluator.get_dts(\"candescence/varasana/train-validation/val/1604GOF_after_3_hrs_in_20_serum37_degrees__6.bmp\",\"Budding White\")"
   ]
  },
  {
   "cell_type": "markdown",
   "metadata": {},
   "source": [
    "There may be cases where you have a large number of images to run validation over.  For  hose cases, the following function will be useful.  It takes an `Evaluator` class, an array of filenames as input, and a confidence threshold.  It returns a figure of all the images, along with their corresponding predicted bounding boxes. "
   ]
  },
  {
   "cell_type": "code",
   "execution_count": null,
   "metadata": {},
   "outputs": [],
   "source": [
    "import matplotlib.pyplot as plt\n",
    "\n",
    "def create_panel(filenames,evaluator,threshold,figure_name):\n",
    "    fig = plt.figure(figsize=(50,50))\n",
    "    c = 1\n",
    "    \n",
    "    for i in filenames:\n",
    "        new_image = draw_dts(i,threshold,show=False)\n",
    "        ax1 = fig.add_subplot(15,15,c)\n",
    "        ax1.imshow(new_image)\n",
    "        c += 1\n",
    "        \n",
    "    plt.savefig(figure_name) "
   ]
  },
  {
   "cell_type": "markdown",
   "metadata": {},
   "source": [
    "As an example, here's the above function run using all of our validation images."
   ]
  },
  {
   "cell_type": "code",
   "execution_count": null,
   "metadata": {},
   "outputs": [],
   "source": [
    "import os\n",
    "\n",
    "validation_filenames = os.listdir(\"candescence/varasana/train-validation/val\")\n",
    "\n",
    "\n",
    "create_panel(validation_filenames,evaluator,0.3,\"validation_inference_panel.png\")"
   ]
  },
  {
   "cell_type": "markdown",
   "metadata": {},
   "source": []
  }
 ],
 "metadata": {
  "kernelspec": {
   "display_name": "Python 3",
   "language": "python",
   "name": "python3"
  },
  "language_info": {
   "codemirror_mode": {
    "name": "ipython",
    "version": 3
   },
   "file_extension": ".py",
   "mimetype": "text/x-python",
   "name": "python",
   "nbconvert_exporter": "python",
   "pygments_lexer": "ipython3",
   "version": "3.7.9"
  }
 },
 "nbformat": 4,
 "nbformat_minor": 4
}
